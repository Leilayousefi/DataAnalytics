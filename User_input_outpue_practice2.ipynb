{
  "nbformat": 4,
  "nbformat_minor": 0,
  "metadata": {
    "colab": {
      "provenance": [],
      "authorship_tag": "ABX9TyOeodeMG3Z2xtcywJ3/Cp0k",
      "include_colab_link": true
    },
    "kernelspec": {
      "name": "python3",
      "display_name": "Python 3"
    },
    "language_info": {
      "name": "python"
    }
  },
  "cells": [
    {
      "cell_type": "markdown",
      "metadata": {
        "id": "view-in-github",
        "colab_type": "text"
      },
      "source": [
        "<a href=\"https://colab.research.google.com/github/Leilayousefi/DataAnalytics/blob/main/User_input_outpue_practice2.ipynb\" target=\"_parent\"><img src=\"https://colab.research.google.com/assets/colab-badge.svg\" alt=\"Open In Colab\"/></a>"
      ]
    },
    {
      "cell_type": "code",
      "execution_count": null,
      "metadata": {
        "id": "DN-N0-e_HfyR"
      },
      "outputs": [],
      "source": [
        "'''\n",
        "TEMPERATURE PROGRAM\n",
        "-------------------\n",
        "Create a program that asks the user for a temperature in Fahrenheit, and then prints the temperature in Celsius.\n",
        "Test with the following:\n",
        "In: 32  Out: 0\n",
        "In: 212  Out: 100\n",
        "In: 52  Out: 11.1\n",
        "In: 25  Out: -3.9\n",
        "In: -40  Out: ??? Please tell me what this output is!\n",
        "'''"
      ]
    }
  ]
}