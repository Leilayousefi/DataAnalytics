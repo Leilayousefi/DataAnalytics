{
  "nbformat": 4,
  "nbformat_minor": 0,
  "metadata": {
    "colab": {
      "provenance": [],
      "authorship_tag": "ABX9TyMQ9ZEzO9Nje/FiYAjZi6/u",
      "include_colab_link": true
    },
    "kernelspec": {
      "name": "python3",
      "display_name": "Python 3"
    },
    "language_info": {
      "name": "python"
    }
  },
  "cells": [
    {
      "cell_type": "markdown",
      "metadata": {
        "id": "view-in-github",
        "colab_type": "text"
      },
      "source": [
        "<a href=\"https://colab.research.google.com/github/Leilayousefi/DataAnalytics/blob/main/Class_py_practice1.ipynb\" target=\"_parent\"><img src=\"https://colab.research.google.com/assets/colab-badge.svg\" alt=\"Open In Colab\"/></a>"
      ]
    },
    {
      "cell_type": "code",
      "execution_count": null,
      "metadata": {
        "id": "6gLmXzIdJFXA"
      },
      "outputs": [],
      "source": [
        "'''\n",
        "Sign your name:________________\n",
        " \n",
        " 1. Write code that defines a class named Animal:\n",
        "     * Add a constructor for the Animal class that prints 'An animal has been born.'\n",
        "     * Add an attribute for the animal name.\n",
        "     * Add an eat() method for Animal that prints 'Munch munch.'\n",
        "     * Add a make_noise() method for Animal that prints 'Grrr says [animal name].'\n",
        "     \n",
        " 2. Write code that defines a class named Cat:\n",
        "     * Make Animal the parent.\n",
        "     * Add a constructor for Cat that prints 'A cat has been born.'\n",
        "     * Modify the constructor so it calls the parent constructor as well.\n",
        "     * Add a make_noise() method for Cat that prints 'Meow says [animal name].'\n",
        "     \n",
        " 3. Write code that defines a class named Dog:\n",
        "     \n",
        "     * Make Animal the parent.\n",
        "     * Add a constructor for Dog that prints 'A dog has been born.'\n",
        "     * Modify the constructor so it calls the parent constructor as well.\n",
        "     * Add a make_noise() method for Dog that prints 'Bark says [animal name].'\n",
        "     \n",
        " 4. Write a main program with:\n",
        "     \n",
        "     * Code that creates a cat, two dogs, and an animal with names.\n",
        "     * Code that calls eat() and make_noise() for each animal.\n",
        "     \n",
        " OUTPUT:\n",
        "An animal has been born.\n",
        "A cat has been born.\n",
        "Munch munch\n",
        "Meow says (cat name) .\n",
        "An animal has been born.\n",
        "A dog has been born.\n",
        "Munch munch\n",
        "Bark says (dog name).\n",
        "An animal has been born.\n",
        "A dog has been born.\n",
        "Munch munch\n",
        "Bark says (another dog name) .\n",
        "An animal has been born.\n",
        "Munch munch\n",
        "Grrr says (animal name) .\n",
        "'''\n"
      ]
    }
  ]
}