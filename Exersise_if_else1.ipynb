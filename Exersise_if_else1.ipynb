{
  "nbformat": 4,
  "nbformat_minor": 0,
  "metadata": {
    "colab": {
      "provenance": [],
      "name": "Exersise_if_else1.ipynb",
      "authorship_tag": "ABX9TyO+MpYlx7SnvjFtJHCtVv2S",
      "include_colab_link": true
    },
    "kernelspec": {
      "name": "python3",
      "display_name": "Python 3"
    },
    "language_info": {
      "name": "python"
    }
  },
  "cells": [
    {
      "cell_type": "markdown",
      "metadata": {
        "id": "view-in-github",
        "colab_type": "text"
      },
      "source": [
        "<a href=\"https://colab.research.google.com/github/Leilayousefi/DataAnalytics/blob/main/Exersise_if_else1.ipynb\" target=\"_parent\"><img src=\"https://colab.research.google.com/assets/colab-badge.svg\" alt=\"Open In Colab\"/></a>"
      ]
    },
    {
      "cell_type": "code",
      "execution_count": null,
      "metadata": {
        "id": "Arzg8s-i_B2y"
      },
      "outputs": [],
      "source": [
        "# Sign your name:________________\n",
        "\n",
        "  #1. Make the following program work. (3 mistakes)\n",
        "     \n",
        "     midichlorians = float(input(\"Enter midichlorian count: \")\n",
        "     if midichlorians > 10000\n",
        "         print(\"You have serious Jedi potential\")\n",
        "     elif:\n",
        "         print(\"Jedi, you will never be.\")\n",
        "\n",
        "\n",
        " # 2. Make the following program work. (3 mistakes)\n",
        "     \n",
        "     x = input(\"Enter a number: \")\n",
        "     if x = 3\n",
        "         print(\"You entered 3\")\n",
        "\n",
        "\n",
        "  # 3. Make the following program work. (4 mistakes)\n",
        "     \n",
        "     answer = input(\"What is the name of Poe Dameron's Droid? \")\n",
        "     if a = \"BB8\":\n",
        "         print(\"Correct!\")\n",
        "         else\n",
        "         print(\"Incorrect! It is BB8.\")\n",
        "\n",
        "\n",
        "  # 4. Make the following program work. (4 mistakes)\n",
        "     \n",
        "     x = input(\"Name one of the top 3 greatest Jedi.\")\n",
        "     if jedi == Yoda or Luke Skywalker or Obi-Wan Kenobi:\n",
        "         print \"That is correct!\"\n",
        "\n",
        "\n",
        "\n",
        " # 5. Make the following program work whether they enter a, A, Jedi Master or jedi master\n",
        " #    Print \"Not a choice!\" if they don't choose any of the three and set sensitivity to blank text.\n",
        "     \n",
        "     print(\"Welcome to the Jedi Academy!\")\n",
        "\n",
        "     print(\"A. Jedi Master\")\n",
        "     print(\"B. Sith Lord\")\n",
        "     print(\"C. Droid\")\n",
        "\n",
        "     user_input = input(\"Choose a character?\")\n",
        "\n",
        "     if user_input = A:\n",
        "         sensitivity = 1000\n",
        "     else if user_input = B:\n",
        "         sensitivity = 900\n",
        "     else if user_input = C:\n",
        "         sensitivity = 0\n",
        "\n",
        "     print(\"Sensitivity: \",Sensitivity)"
      ]
    },
    {
      "cell_type": "code",
      "source": [],
      "metadata": {
        "id": "mMhYij_CCNky"
      },
      "execution_count": null,
      "outputs": []
    }
  ]
}