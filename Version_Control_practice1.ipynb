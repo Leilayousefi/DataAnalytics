{
  "nbformat": 4,
  "nbformat_minor": 0,
  "metadata": {
    "colab": {
      "provenance": [],
      "authorship_tag": "ABX9TyNOCICyfH7lg0uJquQD+LSY",
      "include_colab_link": true
    },
    "kernelspec": {
      "name": "python3",
      "display_name": "Python 3"
    },
    "language_info": {
      "name": "python"
    }
  },
  "cells": [
    {
      "cell_type": "markdown",
      "metadata": {
        "id": "view-in-github",
        "colab_type": "text"
      },
      "source": [
        "<a href=\"https://colab.research.google.com/github/Leilayousefi/DataAnalytics/blob/main/Version_Control_practice1.ipynb\" target=\"_parent\"><img src=\"https://colab.research.google.com/assets/colab-badge.svg\" alt=\"Open In Colab\"/></a>"
      ]
    },
    {
      "cell_type": "code",
      "execution_count": null,
      "metadata": {
        "id": "JVnqfWSSINHX"
      },
      "outputs": [],
      "source": [
        "'''\n",
        "Sign your name:________________\n",
        "Define Forking: \n",
        "Define Cloning: \n",
        "Define Branching:\n",
        "Define Committing: \n",
        "Define Merging: \n",
        "Define Pushing:\n",
        "Define Pull Request:\n",
        "'''"
      ]
    }
  ]
}