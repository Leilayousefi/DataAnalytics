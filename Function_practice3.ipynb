{
  "nbformat": 4,
  "nbformat_minor": 0,
  "metadata": {
    "colab": {
      "provenance": [],
      "authorship_tag": "ABX9TyOIfKzx0SKoO3c5MsHz442H",
      "include_colab_link": true
    },
    "kernelspec": {
      "name": "python3",
      "display_name": "Python 3"
    },
    "language_info": {
      "name": "python"
    }
  },
  "cells": [
    {
      "cell_type": "markdown",
      "metadata": {
        "id": "view-in-github",
        "colab_type": "text"
      },
      "source": [
        "<a href=\"https://colab.research.google.com/github/Leilayousefi/DataAnalytics/blob/main/Function_practice3.ipynb\" target=\"_parent\"><img src=\"https://colab.research.google.com/assets/colab-badge.svg\" alt=\"Open In Colab\"/></a>"
      ]
    },
    {
      "cell_type": "code",
      "execution_count": null,
      "metadata": {
        "id": "g3mLIlWtJudD"
      },
      "outputs": [],
      "source": [
        "'''\n",
        "MINI FUNCTION\n",
        "------------\n",
        "Write a function called mini that will take three numbers as parameters \n",
        "and return the smallest value. If more than one number is tied for smallest, \n",
        "still return that smallest number. Once you've finished writing your function, \n",
        "copy/paste the following code and make sure that it runs correctly with the function you created:\n",
        "INPUT\n",
        "-----\n",
        "print(mini(7, 3, 5))\n",
        "print(mini(5, 5, 4))\n",
        "print(mini(2, 2, 3))\n",
        "print(mini(-2, -6, -100))\n",
        "print(mini(\"Z\", \"B\", \"A\"))\n",
        "OUTPUT\n",
        "------\n",
        "3\n",
        "4\n",
        "2\n",
        "-100\n",
        "A\n",
        "The function should return the value, not print the value. \n",
        "Also, while there is a min function built into Python, don't use it. \n",
        "Please use if statements and practice creating it yourself.\n",
        "'''"
      ]
    }
  ]
}