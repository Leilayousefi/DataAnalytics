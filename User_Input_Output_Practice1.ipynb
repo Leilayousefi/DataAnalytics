{
  "nbformat": 4,
  "nbformat_minor": 0,
  "metadata": {
    "colab": {
      "provenance": [],
      "authorship_tag": "ABX9TyPgiv/sCi2qz/HWUIMx9wIH",
      "include_colab_link": true
    },
    "kernelspec": {
      "name": "python3",
      "display_name": "Python 3"
    },
    "language_info": {
      "name": "python"
    }
  },
  "cells": [
    {
      "cell_type": "markdown",
      "metadata": {
        "id": "view-in-github",
        "colab_type": "text"
      },
      "source": [
        "<a href=\"https://colab.research.google.com/github/Leilayousefi/DataAnalytics/blob/main/User_Input_Output_Practice1.ipynb\" target=\"_parent\"><img src=\"https://colab.research.google.com/assets/colab-badge.svg\" alt=\"Open In Colab\"/></a>"
      ]
    },
    {
      "cell_type": "code",
      "execution_count": null,
      "metadata": {
        "id": "0EJK19rjHBY1"
      },
      "outputs": [],
      "source": [
        "# Sign your name:________________\n",
        "# In all the short programs below, do a good job communicating with your end user!\n",
        "\n",
        "\n",
        "# 1.) Write a program that asks someone for their name and then prints a greeting that uses their name.\n",
        "\n",
        "\n",
        "# 2. Write a program where a user enters a base and height and you print the area of a triangle.\n",
        "\n",
        "\n",
        "# 3. Write a line of code that will ask the user for the radius of a circle and then prints the circumference.\n",
        "\n",
        "\n",
        "# 4. Ask a user for an integer and then print the square root.\n",
        "\n",
        "\n",
        "# 5. Good Star Wars joke: \"May the mass times acceleration be with you!\" because F=ma. \n",
        "#    Ask the user for mass and acceleration and then print out the Force on one line and \"Get it?\" on the next.\n",
        "\n"
      ]
    }
  ]
}