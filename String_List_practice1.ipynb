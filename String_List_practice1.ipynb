{
  "nbformat": 4,
  "nbformat_minor": 0,
  "metadata": {
    "colab": {
      "provenance": [],
      "authorship_tag": "ABX9TyPo+Ado5y0DgkMP2iXwe8P5",
      "include_colab_link": true
    },
    "kernelspec": {
      "name": "python3",
      "display_name": "Python 3"
    },
    "language_info": {
      "name": "python"
    }
  },
  "cells": [
    {
      "cell_type": "markdown",
      "metadata": {
        "id": "view-in-github",
        "colab_type": "text"
      },
      "source": [
        "<a href=\"https://colab.research.google.com/github/Leilayousefi/DataAnalytics/blob/main/String_List_practice1.ipynb\" target=\"_parent\"><img src=\"https://colab.research.google.com/assets/colab-badge.svg\" alt=\"Open In Colab\"/></a>"
      ]
    },
    {
      "cell_type": "code",
      "execution_count": null,
      "metadata": {
        "id": "b79IrDP4KLZ1"
      },
      "outputs": [],
      "source": [
        "#Sign your name:________________\n",
        "\n",
        "'''\n",
        "1.)\n",
        "Write a single program that takes any of the three lists, and prints the average. \n",
        "Use the len function. There is a sum function I haven't told you about. \n",
        "Don't use that. Sum the numbers individually as shown in the chapter. \n",
        "Also, a common mistake is to calculate the average each time through the loop \n",
        "to add the numbers. Finish adding the numbers before you divide.\n",
        "'''\n",
        "a_list = [3,12,3,5,3,4,6,8,5,3,5,6,3,2,4]\n",
        "b_list = [4,15,2,7,8,3,1,10,9]\n",
        "c_list = [5,10,13,12,5,9,2,6,1,8,8,9,11,13,14,8,2,2,6,3,9,8,10]\n",
        "\n",
        "\n",
        "\n",
        "'''\n",
        "2.) Write a program that will strip the username (whatever is in front of the @ symbol)\n",
        "from any e-mail address and print it. First ask the user for their e-mail address.\n",
        "'''\n",
        "\n",
        "\n",
        "\n",
        "'''\n",
        "TEXT FORMATTING:\n",
        "3.) Make following program output the following:\n",
        "     \n",
        "     Score:          41,237\n",
        "     High score:  1,023,407\n",
        "     \n",
        "     Do not use any plus sign (+) in your code.\n",
        "     You should only have two double quotes in each print statement.\n",
        "     '''\n",
        "score = 41237\n",
        "highscore = 1023407\n",
        "print(\"Score:      \" + str(score) )\n",
        "print(\"High score: \" + str(highscore) )\n"
      ]
    }
  ]
}