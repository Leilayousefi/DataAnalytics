
1. Python Variable Types
Strings
Any character or sequence of characters forming text. Can include numbers and symbols in addition to letters

Examples:
"Hello World"
"P@ssW0Rd"
"1234567"

Integers
Any positive or negative whole number including 0

Examples:
-2
0
2

Floats
Any positive or negative decimal number including 0.0

Examples:
-2.12
0.0
2.1365

Bools
Any true of false value or value that computes to true or false

Examples:
True
False
1 -> True
0 -> False
"Hello World" -> True
"" -> False

Changing between variables
casting variables can to different types can change the variable and make it useful for other operations

Examples:
"1234"
int(1234)
float(1234)
str(1234)

2. Math Operations
Addition
Adding two variables together. Cannot mix variable types with the exception of floats and ints

Examples:
1 + 2
1.1 + 2.2
1 + 2.2
"Hello" + "World"
"Hello" + 1 -> error

Subtraction
Subtracting two variables. Limited to only number variables

Examples:
1 - 2
1.1 - 2.2
2 - 1.1
"Hello" - "H" -> error

Multiplication
Multiplying two variables. Can include numbers and strings

Examples:
1 * 2
1.1 * 2.2
2 * 1.1
"Hello" * 3

Division
Dividing two variables. Limited to only number variables

Examples:
1 / 2
1.1 / 2.2
2 / 1.1
"Hello" / 3 -> error

Exponents
Exponentiate two variables. Limited to only number variables

Examples:
1 ** 2
1.1 ** 2.2
2 ** 1.1
"Hello" ** 3 -> error

Base and Modulo
Returning the whole number or remainder parts of a fraction. Limited to only number variables

Examples:
10 / 3 = 3.333 = 3 1/3
10 // 3 = 3 -> whole number
10 % 3 = 1 -> remainder

Using Multiple Variables
Math operations can be performed using multiple variables to store piece of the equation

Examples:
a = 2
b = 1.1
myAnswer = a + b

EXERCISE: Complex Math Operations
Can you solve the math problem below using Python variables and Math Operations?





 


3. Lists
Defining Lists
Lists are ways of storing multiple variables together as one single variable. Can mix type of variables

Example:
[1, 2, 3, 4, 5]
["a", "b", "c", "d", "e"]
["a", 2, True, 3.9]

Indexing Lists
Indexing is used to get specific elements within a list. In Python, indexing starts at 0 which may not be the same for all programming languages

Example:
myList = ["a", "b", "c", "d"]
myList[0]
myList[2]
myList[-1]
myList[4]

EXERCISE: Indexing Lists
Can you index the following list to print HELLO WORLD to the screen?

letters = ["O", "L", "W", "R", "E", "D", "H", " "]


Adding Values to list
The append operation allows new elements to be added to the list

Example:
myList = [0,1,2]
myList.append(3)
myList.append(4)

Removing Values from list
The pop operation allows elements to be removed from the list

Example:
myList = [0,1,2,3,4]
myList.pop()
myList.pop(1)

EXERCISE: Indexing Lists
Can you make the list say ["Programming", "is", "super", "easy"] using appends and pops?

message = ["Programming", "is", "extremely", "hard"]


Changing values in List
Reassigning indexed values in a list allows you to change the values stored at different positions in the list

Example:
myList = [0,1,2,3,4]
myList[0] = 4
myList[2] = 5
myList[-1] = 0

EXERCISE: Changing List Values
Can you make the list say ["Programming", "is", "not", "actually", "hard"] by replacing the values using indexing?

message = ["Coding", "is", "actually", "really", "hard"]


4. Dictionaries
Defining Dictionaries
Dictionaries are ways of storing data using key-value pairs.

Example:
myDict = {"name": "Tom", "age": 27, "coding expert": False}
myDict = dict(name = "tom", age = 27, coding_expert = False)

Referencing Values in Dictionary
Unlike indexing lists, dictionaries return individual elements by referencing the key associated with the value

Example:
myDict = {"name": "Tom", "age": 27, "coding expert": False}
myDict["name"]
myDict["coding expert"]

EXERCISE: Referencing Dictionaries
Can you print "Programming is not actually that hard" by referencing the dictionary below?

message = {"word1": "is", "word2": "actually", "word3": "Programming", "word4": "hard", "word5": "that", "word6": "not"}


Adding Values to Dictionary
Assigning a new key in a dictionary will add the key-value pair

Example:
myDict = {"name": "Tom", "age": 27, "coding expert": False}
myDict["degree"] = "Computer Science"

Removing Values to Dictionary
Removing values from a dictionary uses the pop function like lists but requires a key value to pop

Example:
myDict = {"name": "Tom", "age": 27, "coding expert": False, "degree": "Computer Science"}
myDict.pop("degree")

Changing Values in Dictionary
Reassign a key to a new value will change the value stored in the dictionary

Example:
myDict = {"name": "Tom", "age": 27, "coding expert": False, "degree": "Computer Science"}
myDict["coding expert"] = True

EXERCISE: Referencing Dictionaries
Can you change the dictionary below to match your information?

myDict = {"name": "Tom", "age": 27, "coding expert": False, "degree": "Computer Science"}

