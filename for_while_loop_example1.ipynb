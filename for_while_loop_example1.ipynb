{
  "nbformat": 4,
  "nbformat_minor": 0,
  "metadata": {
    "colab": {
      "provenance": [],
      "authorship_tag": "ABX9TyPkV75KGwuE4fr0iFiv/Jx7",
      "include_colab_link": true
    },
    "kernelspec": {
      "name": "python3",
      "display_name": "Python 3"
    },
    "language_info": {
      "name": "python"
    }
  },
  "cells": [
    {
      "cell_type": "markdown",
      "metadata": {
        "id": "view-in-github",
        "colab_type": "text"
      },
      "source": [
        "<a href=\"https://colab.research.google.com/github/Leilayousefi/DataAnalytics/blob/main/for_while_loop_example1.ipynb\" target=\"_parent\"><img src=\"https://colab.research.google.com/assets/colab-badge.svg\" alt=\"Open In Colab\"/></a>"
      ]
    },
    {
      "cell_type": "code",
      "execution_count": null,
      "metadata": {
        "id": "aAZsjRhRE3ZO"
      },
      "outputs": [],
      "source": [
        "## Enter an integer\n",
        "number=int(input())\n",
        "\n",
        "## Enter an integer\n",
        "num=int(input())\n",
        "\n",
        "## initialise a variable for the loop\n",
        "j=0\n",
        "\n",
        "## print outcome based on the loops\n",
        "print(\"For loop:\")\n",
        "for i in range(number):\n",
        "   print(i)\n",
        "print(\"\\n\")\n",
        "print(\"While loop:\")\n",
        "while j<num:\n",
        "   print(j)\n",
        "   j+=2"
      ]
    }
  ]
}