{
 "cells": [
  {
   "cell_type": "markdown",
   "metadata": {},
   "source": [
    "# Advanced iterables\n",
    "\n",
    "An _iterable_ is anything which may be iterated over, i.e. stepped through one item at a time, such as with a `for` loop. Iterables contain a number of _items_ which have certain _values_. For example, the list `[1, 8, 5, 16]` is an iterable with four items, whose values are 1, 8, 5 and 16.\n",
    "\n",
    "In the _Introduction to Python_ we met two types of iterables: lists and dictionaries. Strings may be considered a third type, as they can be considered a special type of list whose items are characters. In Part 1 we'll meet two more types: tuples and sets. Part 2 will introduce some of the useful functions Python provides to manipulate, analyse, sort and convert between different types of iterable. Part 3 discusses some important caveats in making copies of iterable data structures, and then Part 4 introduces _comprehensions_, a powerful way of filtering and reshaping iterables. Finally in Part 5 we discuss a generic type of iterable called an _iterator_, and how to write _generators_ to define custom iterators.\n",
    "\n",
    "## Part 1. Tuples and sets\n",
    "\n",
    "### Tuples\n",
    "\n",
    "A tuple is very similar to a list, but it's immutable: once a tuple has been created it cannot be modified, and no new items can be added. Tuples are denoted like a list, but using round brackets instead of square ones, e.g. `seasons = (\"spring\", \"summer\", \"autumn\", \"winter\")`. The brackets may in many circumstances be omitted (`seasons = \"spring\", \"summer\", \"autumn\", \"winter\"` would work just as well), but it's usually best to put them in for clarity.\n",
    "\n",
    "So what's the point of them, versus lists? One advantage is better code efficiency: if your code is churning through large numbers of sequences, or has enormous sequences, then tuples are likely to offer performance advantage over lists. Another is that they may be used in some circumstances where a mutable sequence such as a list would not be allowed: for example, a dictionary may use tuples as keys, but cannot use lists.\n",
    "\n",
    "**Task**: the function `f()` below calculates two values `a` and `b`. Have it return the values as a tuple; write a line to call the function and read the returned values into variables `A` and `B`."
   ]
  },
  {
   "cell_type": "code",
   "execution_count": null,
   "metadata": {},
   "outputs": [],
   "source": [
    "def f():\n",
    "    a = 365 * 24\n",
    "    b = a * 3600"
   ]
  },
  {
   "cell_type": "markdown",
   "metadata": {},
   "source": [
    "<details><summary><b>Solution</b></summary>\n",
    "  \n",
    "<pre><code>\n",
    "def f():\n",
    "    a = 365 * 24\n",
    "    b = a * 3600\n",
    "    return (a, b)\n",
    "    \n",
    "A, B = f()\n",
    "\n",
    " </code></pre>\n",
    "This is a very common way of having a function return more than one value.\n",
    "</details>\n",
    "<br>\n",
    "\n",
    "### Sets\n",
    "\n",
    "A set contains a number of _unique_ items, i.e. without duplicates. The items in a set may be of any type and, unlike lists and tuples, are not kept in any particular order. Sets are denoted by curly brackets, e.g. `pests = {\"wasp\", \"rat\", \"wasp\", \"wasp\", \"cockroach\"}`. Duplicate entries are ignored, so `pests` would contain only three items: `\"wasp\"`, `\"cockroach\"` and `\"rat\"`.\n",
    "\n",
    "Sets can be added to with `.add()`, which adds a new item only if it isn't already there, e.g. `pests.add(\"data scientist\")` would add a new item, but `pests.add(\"rat\")` would do nothing. Items may be removed with `.discard()`, which will remove the item if it is present and do nothing otherwise.\n",
    "\n",
    "The operator `&` may be used to find items common to two sets, for example if `insects = {\"fly\", \"wasp\", \"beetle\", \"bee\", \"cockroach\"}` then `pests & insects` would return the set `{\"cockroach\", \"wasp\"}`. Other useful operators are `|` to find the set of items in one set, the other or both, and `-` to remove all items in one set from another.\n",
    "\n",
    "**Task**: in the box below, find the set of characters which appear in the English aphabet but not the Welsh alphabet, and vice-versa. Notice use of the function `set()` which is a handy way of generating a set from a list or string."
   ]
  },
  {
   "cell_type": "code",
   "execution_count": null,
   "metadata": {},
   "outputs": [],
   "source": [
    "english = set(\"abcdefghijklmnopqrstuvwxyz\")\n",
    "welsh = {\"a\", \"b\", \"c\", \"ch\", \"d\", \"dd\", \"e\", \"f\", \"ff\", \"g\", \"ng\", \"h\", \"i\", \"j\", \"l\", \"ll\", \"m\", \"n\", \"o\", \"p\", \"ph\", \"r\", \"rh\", \"s\", \"t\", \"th\", \"u\", \"w\", \"y\"}"
   ]
  },
  {
   "cell_type": "markdown",
   "metadata": {},
   "source": [
    "<details><summary><b>Solution</b></summary>\n",
    "  \n",
    "<pre><code>\n",
    "english = set(\"abcdefghijklmnopqrstuvwxyz\")\n",
    "welsh = {\"a\", \"b\", \"c\", \"ch\", \"d\", \"dd\", \"e\", \"f\", \"ff\", \"g\", \"ng\", \"h\", \"i\", \"j\", \"l\", \"ll\", \"m\", \"n\", \"o\", \"p\", \"ph\", \"r\", \"rh\", \"s\", \"t\", \"th\", \"u\", \"w\", \"y\"}\n",
    "\n",
    "print(english - welsh)\n",
    "print(welsh - english)\n",
    "\n",
    " </code></pre>\n",
    "</details>\n",
    "<br>\n",
    "\n",
    "## Part 2. Useful functions and methods\n",
    "\n",
    "### Converting between lists, dictionaries, tuples and sets\n",
    "\n",
    "The functions `list()`, `tuple()` and `set()` can convert any one of these three types into any other. Each can also take a string as an argument, to produce a list, tuple or set of its characters. Note that converting a list, string or tuple to a set will remove any duplicate entries and lose the order of the items.\n",
    "\n",
    "Calling `list()`, `tuple()` or `set()` on a dictionary will produce a list, tuple or set of the _keys_ of the dictionary. To produce a list of the _values_ the method `.values()` must be called, for example if `digits = {1: \"one\", 2: \"two\", 3: \"three\"}` then `list(digits)` returns `[1, 2, 3]` but `list(digits.values())` returns `[\"one\", \"two\", \"three\"]`.\n",
    "\n",
    "Dictionaries may be created from a list, tuple or set in which each item is a length-2 list or tuple, using the `dict()` function. For example, `dict([(1, \"one\"), (2, \"two\"), (3, \"three\")])` would reproduce the dictionary `digits` above. Lists, tuples or sets in this format may be conveniently generated using the `zip()` function, which takes as arguments two (or more) lists or tuples and pairs them up into tuples. The `zip()` function returns something called an _iterator_, which we'll look at in Part 5, but for now all you need to know is that you can call `list()`, `tuple()` or `set()` on an iterator to produce a list, a tuple or a set. As an example, if `a = [1, 2, 3]` and `b = [\"one\", \"two\", \"three\"]`, then `list(zip(a, b))` returns `[(1, \"one\"), (2, \"two\"), (3, \"three\")]`.\n",
    "\n",
    "**Task**: in the box below, fix the error in the tuple `english_nums` by converting into a list and then changing the erroneous value. Then produce a dictionary having German names of numbers as keys and English names of numbers as values."
   ]
  },
  {
   "cell_type": "code",
   "execution_count": null,
   "metadata": {},
   "outputs": [],
   "source": [
    "english_nums = (\"one\", \"two\", \"free\", \"four\", \"five\")\n",
    "german_nums = {1: \"eins\", 2: \"zwei\", 3: \"drei\", 4: \"vier\", 5: \"funf\"}"
   ]
  },
  {
   "cell_type": "markdown",
   "metadata": {},
   "source": [
    "<details><summary><b>Solution</b></summary>\n",
    "  \n",
    "<pre><code>\n",
    "english_nums = (\"one\", \"two\", \"free\", \"four\", \"five\")\n",
    "german_nums = {1: \"eins\", 2: \"zwei\", 3: \"drei\", 4: \"vier\", 5: \"funf\"}\n",
    "\n",
    "english_list = list(english_nums)\n",
    "english_list[2] = \"three\"\n",
    "\n",
    "german_list = list(german_nums.values())\n",
    "\n",
    "german_to_english = dict(zip(german_list, english_list))\n",
    "print(german_to_english)\n",
    "\n",
    " </code></pre>\n",
    "\n",
    "</details>\n",
    "<br>\n",
    "\n",
    "### Miscellaneous useful functions and methods\n",
    "\n",
    "Python contains a number of useful functions and methods for manipulating and analysing lists and other iterables. Here are a few of them:\n",
    "\n",
    "- `len(iterable)` returns the number of items in a list, tuple, set, dictionary or string.\n",
    "\n",
    "- `min(iterable)` and `max(iterable)` return the minimum or maximum value in a list, tuple, set or string. If called on a dictionary, they return the minimum or maximum key. These functions produce an error if called on an empty iterable.\n",
    "\n",
    "- `sum(iterable)` returns the sum of values within a numeric list, tuple or set. If called on a dictionary, it returns the sum of the keys. This will raise an error if there any non-numeric values.\n",
    "\n",
    "- `iterable.count(value)` returns the number of items in a list, tuple or string having the value `value`. For example if `rota = [\"Sven\", \"Derek\", \"Ashleigh\", \"Derek\", \"Derek\", \"Olivia\", \"Derek\"]` then `rota.count(\"Derek\")` would return `4`.\n",
    "\n",
    "- `iterable.index(value)` returns the index in a list, tuple or string at which the first item having value `value` can be found. Use with caution, as this will produce an error if `value` is not to be found within the iterable.\n",
    "\n",
    "- `list.insert(index, value)` inserts a new item of value `value` into a list at position `index`.\n",
    "\n",
    "- `list.remove(value)` removes an item from a list having value `value`. If there are multiple occurences, it removes the first. If `value` doesn't appear in the list it will raise an error, so use with caution. Also works on sets, but usually it's best to use the `.discard()` method for sets, as this will not raise an error if the value is not present.\n",
    "\n",
    "**Task**: in the box below, use the functions and methods above to calculate the mean of the values. Then delete the lowest value from the list."
   ]
  },
  {
   "cell_type": "code",
   "execution_count": null,
   "metadata": {},
   "outputs": [],
   "source": [
    "scores = [7.6, 5.7, 8.0, 9.1, 8.4, 3.2, 6.4, 7.9, 5.6, 6.0, 5.5]"
   ]
  },
  {
   "cell_type": "markdown",
   "metadata": {},
   "source": [
    "<details><summary><b>Solution</b></summary>\n",
    "  \n",
    "<pre><code>\n",
    "scores = [7.6, 5.7, 8.0, 9.1, 8.4, 3.2, 6.4, 7.9, 5.6, 6.0, 5.5]\n",
    "\n",
    "print(sum(scores) / len(scores))\n",
    "\n",
    "scores.remove(min(scores))\n",
    "print(scores)\n",
    " </code></pre>\n",
    "\n",
    "</details>\n",
    "<br>\n",
    "\n",
    "### Generating ranges\n",
    "\n",
    "`range()` is a useful function for generating sequences of numbers. `range()` with a single argument produces a sequence of integers from 0 up to (but not including) the argument, for example `list(range(5))` returns `[0, 1, 2, 3, 4]`. If there are two arguments a start and stop can be specified, e.g. `list(range(2, 5))` returns `[2, 3, 4]`. A third argument can be used to specify an increment other than one, e.g. `list(range(2, 20, 5))` returns `[2, 7, 12, 17]`.\n",
    "\n",
    "**Task**: in the box below, use `len()`, `range()` and a `for` loop to populate the dictionary `digits` so that `digits == {1: \"one\", 2: \"two\", 3: \"three\"}`."
   ]
  },
  {
   "cell_type": "code",
   "execution_count": null,
   "metadata": {},
   "outputs": [],
   "source": [
    "number_names = (\"one\", \"two\", \"three\")\n",
    "digits = {}"
   ]
  },
  {
   "cell_type": "markdown",
   "metadata": {},
   "source": [
    "<details><summary><b>Solution</b></summary>\n",
    "  \n",
    "<pre><code>\n",
    "number_names = (\"one\", \"two\", \"three\")\n",
    "digits = {}\n",
    "\n",
    "for i in range(len(number_names)):\n",
    "    digits[i+1] = number_names[i]\n",
    "\n",
    "print(digits)\n",
    " </code></pre>\n",
    "Ther's also a handy function called `enumerate()` which can do this more concisely:\n",
    "<pre><code>\n",
    "number_names = (\"one\", \"two\", \"three\")\n",
    "digits = dict(enumerate(number_names, start=1))\n",
    "print(digits)\n",
    " </code></pre>\n",
    "\n",
    "</details>\n",
    "<br>\n",
    "\n",
    "### Sorting lists\n",
    "\n",
    "Lists may be sorted using the `sorted()` function or the `.sort()` method. These work similarly, but the `.sort()` method modifies the original list whereas the `sorted()` function leaves the original list untouched and returns a sorted copy.\n",
    "\n",
    "By default, lists are sorted numerically (for numeric values), or alphabetically (for strings). For example, if `trees = [\"oak\", \"hawthorn\", \"birch\", \"willow\"]` then `sorted(trees)` returns `[\"birch\", \"hawthorn\", \"oak\", \"willow\"]`. However the argument `key` may be set to any function to sort the list by. For example, `sorted(trees, key=len)` would sort by string length and return `[\"oak\", \"birch\", \"willow\", \"hawthorn\"]`.\n",
    "\n",
    "Quite often when sorting lists we don't have a pre-defined function to sort by, and need to create a temporary sorting function. This can be done with the `lambda` keyword. For example, to sort the list by the third letter of each tree: `sorted(trees, key = lambda x: x[2])` returns `[\"oak\", \"willow\", \"birch\", \"hawthorn\"]`. The code `lambda x: x[2]` creates a temporary function that takes one argument `x` and returns `x[2]`.\n",
    "\n",
    "The list can be sorted in descending order by setting the argument `reverse` to `True`. E.g. `sorted(trees, reverse=True)` returns `[\"willow\", \"oak\", \"hawthorn\", \"birch\"]`.\n",
    "\n",
    "Lists may be easily reversed using the `.reverse()` method, which modifies the original, or by using the `reversed()` function, which leaves the original untouched and returns an iterator of the reversed list. Calling `list(reversed(trees))` returns `[\"willow\", \"birch\", \"hawthorn\", \"oak\"]`\n",
    "\n",
    "**Task**: sort the list below by the number of unique letters in each word (e.g. `lists` has four unique letters: `l`, `i`, `s` and `t`)."
   ]
  },
  {
   "cell_type": "code",
   "execution_count": null,
   "metadata": {},
   "outputs": [],
   "source": [
    "words = [\"rhythmic\", \"banana\", \"quintessential\", \"abracadabra\", \"spit\", \"dodo\", \"anagrams\"]"
   ]
  },
  {
   "cell_type": "markdown",
   "metadata": {},
   "source": [
    "<details><summary><b>Solution</b></summary>\n",
    "  \n",
    "<pre><code>\n",
    "words = [\"rhythmic\", \"banana\", \"quintessential\", \"abracadabra\", \"spit\", \"dodo\", \"anagrams\"]\n",
    "\n",
    "words = sorted(words, key = lambda x: len(set(x)))\n",
    "\n",
    "print(words)\n",
    " </code></pre>\n",
    "\n",
    "</details>\n",
    "<br>\n",
    "\n",
    "## Part 3. Shallow and deep copies\n",
    "\n",
    "Consider the code below."
   ]
  },
  {
   "cell_type": "code",
   "execution_count": null,
   "metadata": {},
   "outputs": [],
   "source": [
    "list1 = [1, 3, 6, 10, 15]\n",
    "list2 = list1\n",
    "list2.append(21)\n",
    "print(list1)"
   ]
  },
  {
   "cell_type": "markdown",
   "metadata": {},
   "source": [
    "Running the code gives a perhaps surprising result. The value 21 has been appended to `list1`, even though we appended it to `list2`. This is because both variables refer to the same list. The code `list2 = list1` does not create a new copy of the list in memory, it just creates a new reference linking to the _same_ list.\n",
    "\n",
    "If we want to make an independent copy of a list (or set, tuple or dictionary... we'll just say \"list\" for the rest of this section for brevity) we need to use the `.copy()` method, which returns a duplicate copy in memory.\n",
    "\n",
    "**Task**: modify the code above so that appending to `list2` does not also append to `list1`.\n",
    "\n",
    "<details><summary><b>Solution</b></summary>\n",
    "  \n",
    "<pre><code>\n",
    "list1 = [1, 3, 6, 10, 15]\n",
    "list2 = list1.copy()\n",
    "list2.append(21)\n",
    "print(list1)\n",
    " </code></pre>\n",
    "\n",
    "</details>\n",
    "\n",
    "Things get more complicated when the list we want to copy itself contains other lists. The `.copy()` method will only create a duplicate in memory of the outer or high-level list; the lists nested within will not be duplicated. This is known as a _shallow copy_. It means that any changes made to lists nested within the new copy will also affect the old copy. Another method, `.deepcopy()`, performs a _deep copy_ of the list, creating a duplicate in memory of not only the high-level list but any sub-lists, sub-sub-lists, etc.\n",
    "\n",
    "**Task**: modify the code below so that the dictionary `dict2` is a shallow copy of `dict1` and see how it affects the output. Then try making it a deep copy and see again.\n",
    "\n"
   ]
  },
  {
   "cell_type": "code",
   "execution_count": null,
   "metadata": {},
   "outputs": [],
   "source": [
    "dict1 = {\"linear\": [1,2,3,4,5],\n",
    "         \"triangle\": [1,3,6,10,15],\n",
    "         \"square\": [1,4,9,16,25]}\n",
    "dict2 = dict1\n",
    "dict2[\"cube\"] = [1,8,27,64,125]\n",
    "dict2[\"square\"].append(36)\n",
    "print(dict1)"
   ]
  },
  {
   "cell_type": "markdown",
   "metadata": {},
   "source": [
    "<details><summary><b>Solution</b></summary>\n",
    "  \n",
    "<pre><code>\n",
    "dict1 = {\"linear\": [1,2,3,4,5],\n",
    "         \"triangle\": [1,3,6,10,15],\n",
    "         \"square\": [1,4,9,16,25]}\n",
    "dict2 = dict1.copy()\n",
    "dict2[\"cube\"] = [1,8,27,64,125]\n",
    "dict2[\"square\"].append(36)\n",
    "print(dict1)\n",
    " </code></pre>\n",
    "This is a shallow copy. The new entry `\"cube\"` is not added to `dict1` since this is an addition to the high-level dictionary, but the value of `\"square\"` in `dict1` is updated with a new item since this is an addition to a sub-list which was not duplicated in memory.\n",
    "\n",
    "<pre><code>\n",
    "dict1 = {\"linear\": [1,2,3,4,5],\n",
    "         \"triangle\": [1,3,6,10,15],\n",
    "         \"square\": [1,4,9,16,25]}\n",
    "dict2 = dict1.deepcopy()\n",
    "dict2[\"cube\"] = [1,8,27,64,125]\n",
    "dict2[\"square\"].append(36)\n",
    "print(dict1)\n",
    " </code></pre>\n",
    "This is a deep copy. Nothing within `dict1` is modified by changes to `dict2`.\n",
    "\n",
    "</details>\n",
    "<br>\n",
    "\n",
    "## Part 4. Comprehensions\n",
    "\n",
    "A list comprehension is a handy way to make a new list based on on existing list. Here's an example: say we have a list `numbers = [1, 8, 3, 5, 1, 2]` and we want a new list with those values squared. We could do that with a `for` loop, but there's a much easier way with a list comprehension: `[x**2 for x in numbers]`, which returns the list `[1, 64, 9, 25, 1, 4]`. A list comprehension follows the basic format `[A for B in C]`. It takes each item in turn from `C` (a list or other iterable) and performs the function `A` on it, writing the results to a new list. `B` is a arbitrary label that can be used in `A` to refer to each item's value.\n",
    "\n",
    "**Task**: in the box below, generate a list of powers of two from 2^1 to 2^10 using a list comprehension."
   ]
  },
  {
   "cell_type": "code",
   "execution_count": null,
   "metadata": {},
   "outputs": [],
   "source": []
  },
  {
   "cell_type": "markdown",
   "metadata": {},
   "source": [
    "<details><summary><b>Solution</b></summary>\n",
    "  \n",
    "<pre><code>\n",
    "powers_of_two = [2**x for x in range(1, 11)]\n",
    "print(powers_of_two)\n",
    " </code></pre>\n",
    "\n",
    "</details>\n",
    "\n",
    "More than one label `B` may be used if the items of the list `C` are themselves tuples or lists. For example, if `magpies = [(1,\"sorrow\"), (2,\"joy\"), (3,\"a girl\"), (4,\"a boy\")]`, then `[str(count) + \" for \" + word for count, word in magpies]` returns `[\"1 for sorrow\", \"2 for joy\", \"3 for a girl\", \"4 for a boy\"]`.\n",
    "\n",
    "**Task**: given the lists of x and y coordinates in the box below, use `zip()` and a list comprehension to build a list of distances of the six points (x,y) from the point (2,7)."
   ]
  },
  {
   "cell_type": "code",
   "execution_count": null,
   "metadata": {},
   "outputs": [],
   "source": [
    "from math import sqrt\n",
    "\n",
    "xcoords = [7,  0,  2, 8, -1, 19]\n",
    "ycoords = [0, 12, -5, 2, -5,  9]"
   ]
  },
  {
   "cell_type": "markdown",
   "metadata": {},
   "source": [
    "<details><summary><b>Solution</b></summary>\n",
    "  \n",
    "<pre><code>\n",
    "from math import sqrt\n",
    "\n",
    "xcoords = [7,  0,  2, 8, -1, 19]\n",
    "ycoords = [0, 12, -5, 2, -5,  9]\n",
    "\n",
    "dists = [sqrt((y-7)**2 + (x-2)**2) for x,y in zip(xcoords, ycoords)]\n",
    "\n",
    "print(dists)\n",
    " </code></pre>\n",
    "\n",
    "</details>\n",
    "<br>\n",
    "\n",
    "### Conditions in comprehensions\n",
    "\n",
    "List comprehension can be made more complex by putting conditions inside them. Putting `if` and a conditions after part `C` of the comprehension means that only items satisfying that condition will be passed to part `A`. For example, if `digits = [7, 3, 5, 2, 0, 8, 16, 13, 4, 5, 9, 6]` then `[x for x in digits if not x % 2]` would return `[2, 0, 8, 16, 4, 6]`, i.e. only the even numbers. This is a convenient way to filter lists.\n",
    "\n",
    "**Task**: use a list comprehension to filter the \"NA\" values out of the list below."
   ]
  },
  {
   "cell_type": "code",
   "execution_count": null,
   "metadata": {},
   "outputs": [],
   "source": [
    "beatles = [\"John\", \"Paul\", \"George\", \"NA\", \"Ringo\", \"NA\"]"
   ]
  },
  {
   "cell_type": "markdown",
   "metadata": {},
   "source": [
    "<details><summary><b>Solution</b></summary>\n",
    "  \n",
    "<pre><code>\n",
    "beatles = [\"John\", \"Paul\", \"George\", \"NA\", \"Ringo\", \"NA\"]\n",
    "\n",
    "beatles = [x for x in beatles if x != \"NA\"]\n",
    "print(beatles)\n",
    " </code></pre>\n",
    "\n",
    "</details>\n",
    "\n",
    "You can also use an `if` and `else` after part `A` of the comprehension to give conditional output. For example, to create a list holding values `True` or `False` based on whether the values in `digits` above are even or not, we could use the comprehension `[False if x % 2 else True for x in digits]`.\n",
    "\n",
    "**Task**: use a list comprehension to make a list holding the inverse (1/x) of the numbers in `digits`. To avoid a divide-by-zero error, the list should contain the string \"NA\" corresponding to the zero."
   ]
  },
  {
   "cell_type": "code",
   "execution_count": null,
   "metadata": {},
   "outputs": [],
   "source": [
    "digits = [7, 3, 5, 2, 0, 8, 16, 13, 4, 5, 9, 6]"
   ]
  },
  {
   "cell_type": "markdown",
   "metadata": {},
   "source": [
    "<details><summary><b>Solution</b></summary>\n",
    "\n",
    "<pre><code>\n",
    "digits = [7, 3, 5, 2, 0, 8, 16, 13, 4, 5, 9, 6]\n",
    "\n",
    "inverse_digits = [1/x if x else \"NA\" for x in digits]\n",
    "print(inverse_digits)\n",
    " </code></pre>\n",
    "\n",
    "</details>\n",
    "<br>\n",
    "\n",
    "### Dictionary, tuple and set comprehensions\n",
    "\n",
    "So far we've just considered list comprehensions, but dictionaries, tuples and sets may be generated through comprehensions in a similar way. Here are some examples:\n",
    "- `{x:x**2 for x in range(5)}` generates the dictionary `{0:0, 1:1, 2:4, 3:9, 4:16}`;\n",
    "- `{x.lower() for x in {\"RED\", \"Amber\", \"green\", \"amber\", \"red\", \"Red\"}}` generates the set `{\"red\", \"amber\", \"green\"}`;\n",
    "- `(x / 2 for x in range(5))` doesn't generate a tuple, but a generator (see next section). To generate the tuple `(0, 0.5, 1, 1.5, 2)` using a comprehension it would need to be converted using the `tuple()` function, i.e. `tuple(x / 2 for x in range(5))`.\n",
    "\n",
    "**Task**: use a comprehension to create a dictionary whose keys are the fruits in the list below, and whose values are the number of times each fruit occurs in the list. Do not include snozberries in your dictionary."
   ]
  },
  {
   "cell_type": "code",
   "execution_count": null,
   "metadata": {},
   "outputs": [],
   "source": [
    "fruits = [\"apple\", \"pear\", \"banana\", \"snozberry\", \"pineapple\", \"banana\", \"apple\",\n",
    "    \"banana\", \"snozberry\", \"kiwi\", \"pear\", \"banana\", \"banana\", \"pineapple\",\n",
    "    \"apple\", \"banana\", \"banana\", \"snozberry\"]"
   ]
  },
  {
   "cell_type": "markdown",
   "metadata": {},
   "source": [
    "<details><summary><b>Solution</b></summary>\n",
    "\n",
    "<pre><code>\n",
    "fruits = [\"apple\", \"pear\", \"banana\", \"snozberry\", \"pineapple\", \"banana\", \"apple\",\n",
    "    \"banana\", \"snozberry\", \"kiwi\", \"pear\", \"banana\", \"banana\", \"pineapple\",\n",
    "    \"apple\", \"banana\", \"banana\", \"snozberry\"]\n",
    "\n",
    "fruit_counts = {fruit:fruits.count(fruit) for fruit in set(fruits) if fruit != \"snozberry\"}\n",
    "print(fruit_counts)\n",
    " </code></pre>\n",
    "\n",
    "</details>\n",
    "<br>\n",
    "\n",
    "## Part 5. Iterators and generators\n",
    "\n",
    "### Iterators\n",
    "\n",
    "An _iterator_ is something which returns the values of a sequence one by one when instructed to. Iterators can be created by calling the function `iter()` on any iterable, and return a value when the function `next()` is called upon them. For example, the expression `it = iter([1, 2, 3, 7])` creates an iterator called `it`. When `next(it)` is called it will return the value `2`. Subsequent calls of `next(it)` will return the values `2`, `3` and `7`.\n",
    "\n",
    "Iterators may be used in `for` loops, e.g. `for i in it: print(i)` would print `1`, `2`, `3` and `7`. They may also be used in comprehensions: `[2 * x for x in it]` would return the list `[2, 4, 6, 14]`.\n",
    "\n",
    "An iterator remembers where it is in the sequence. For example, consider this code"
   ]
  },
  {
   "cell_type": "code",
   "execution_count": null,
   "metadata": {},
   "outputs": [],
   "source": [
    "nums = [1, 2, 3, 7]\n",
    "iterator = iter(nums)\n",
    "\n",
    "print(\"First two values:\")\n",
    "print(next(iterator), next(iterator))\n",
    "\n",
    "print(\"All the values:\")\n",
    "for item in iterator:\n",
    "    print(item)"
   ]
  },
  {
   "cell_type": "markdown",
   "metadata": {},
   "source": [
    "which produces the following output:\n",
    "<pre><code>\n",
    "First two values:\n",
    "1, 2\n",
    "All the values:\n",
    "3\n",
    "7\n",
    " </code></pre>\n",
    "because the iterator, when the `for` loop calls it, has already returned its first two values. If we wish to refresh the sequence then we need to reinitialise the iterator with a new `iter()` call.\n",
    "\n",
    "### Generators\n",
    "\n",
    "A _generator_ is a special type of iterator which can be used to define custom sequences. A generator acts just like an iterator.\n",
    "\n",
    "We've already met one way of producing a generator in a previous section: through a comprehension in round brackets. For example `gen = (x for x in [1, 2, 3, 7])` produces a generator functionally similar to the iterator `it` above. Another way, however, is by using a generator function containing a `yield` statement. Here's an example:"
   ]
  },
  {
   "cell_type": "code",
   "execution_count": null,
   "metadata": {},
   "outputs": [],
   "source": [
    "def osc5():\n",
    "    i = 0\n",
    "    inc = 1\n",
    "    while True:\n",
    "        yield i\n",
    "        i += inc\n",
    "        if i == 5: inc = -1\n",
    "        elif i == 0: inc = 1"
   ]
  },
  {
   "cell_type": "markdown",
   "metadata": {},
   "source": [
    "Calling `gen = osc5()` produces a generator such that repeated calls to `next(gen)` return `0`, `1`, `2`, `3`, `4`, `5`, `4`, `3`, `2`, `1`, `0`, `1`, `2`, `3`, `4`, `5` etc. Every time `next()` is called the function runs through until it hits a `yield` statement, when it returns a value and pauses until `next()` is called again.\n",
    "\n",
    "This generator has a property which lists, tuples etc. cannot have: it is infinite. Infinite generators can be useful, but should be used with caution: calling `list()`, for example, on an infinite generator would cause a crash. And if you loop through an infinite generator in a `for` loop you'll need to have a `break` statement to get out or it'll go on forever.\n",
    "\n",
    "**Task**: write a generator function to yield the values of the Fibonacci sequence, then print the first ten values using a `for` loop. Then use another `for` loop to print all the values below 100. The Fibonacci sequence has first two values `0` and `1`, then subsequent values are the sum of the previous two."
   ]
  },
  {
   "cell_type": "code",
   "execution_count": null,
   "metadata": {},
   "outputs": [],
   "source": []
  },
  {
   "cell_type": "markdown",
   "metadata": {},
   "source": [
    "<details><summary><b>Solution</b></summary>\n",
    "\n",
    "<pre><code>\n",
    "def fib():\n",
    "    val_older = 0\n",
    "    val_old = 1\n",
    "    yield 0\n",
    "    yield 1\n",
    "    while True:\n",
    "        val_new = val_old + val_older\n",
    "        yield val_new\n",
    "        val_older = val_old\n",
    "        val_old = val_new\n",
    "\n",
    "gen = fib()\n",
    "for i in range(10):\n",
    "    print(next(gen))\n",
    "\n",
    "for i in fib():\n",
    "    if i >= 100: break\n",
    "    print(i)\n",
    " </code></pre>\n",
    "\n",
    "</details>\n",
    "<br>"
   ]
  }
 ],
 "metadata": {
  "language_info": {
   "name": "python"
  },
  "orig_nbformat": 4
 },
 "nbformat": 4,
 "nbformat_minor": 2
}
