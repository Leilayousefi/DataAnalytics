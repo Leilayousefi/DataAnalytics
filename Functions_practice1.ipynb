{
  "nbformat": 4,
  "nbformat_minor": 0,
  "metadata": {
    "colab": {
      "provenance": [],
      "authorship_tag": "ABX9TyP5C9u5j0/NadJ0j/gUES+B",
      "include_colab_link": true
    },
    "kernelspec": {
      "name": "python3",
      "display_name": "Python 3"
    },
    "language_info": {
      "name": "python"
    }
  },
  "cells": [
    {
      "cell_type": "markdown",
      "metadata": {
        "id": "view-in-github",
        "colab_type": "text"
      },
      "source": [
        "<a href=\"https://colab.research.google.com/github/Leilayousefi/DataAnalytics/blob/main/Functions_practice1.ipynb\" target=\"_parent\"><img src=\"https://colab.research.google.com/assets/colab-badge.svg\" alt=\"Open In Colab\"/></a>"
      ]
    },
    {
      "cell_type": "code",
      "execution_count": null,
      "metadata": {
        "id": "tlkgEVmoJfFp"
      },
      "outputs": [],
      "source": [
        "#Sign your name:________________\n",
        "\n",
        "\n",
        "#1.) Correct the following code: (The user's number should be increased by 1 and printed.)\n",
        "\n",
        "def increase(x):\n",
        "    return x + 1\n",
        " \n",
        "num = input(\"Enter a number: \")\n",
        "increase(x)\n",
        "print(\"Your number has been increased to\", x)\n",
        "                        \n",
        " \n",
        "\n",
        "\n",
        "#2.) Correct the following code to print 1-10:\n",
        "\n",
        "def count_to_ten:\n",
        "    for i in range[10]:\n",
        "        print(i)\n",
        " \n",
        "count_to_ten()\n",
        "\n",
        "\n",
        "\n",
        "#3.) Correct the following code to sum the list:\n",
        "\n",
        "def sum_list(list):\n",
        "    for i in list:\n",
        "        sum = i\n",
        "        return sum\n",
        " \n",
        "list = [45, 2, 10, -5, 100]\n",
        "print(sum_list(list))\n",
        "\n",
        "\n",
        "\n",
        "\n",
        "#4.) Correct the following code which should reverse the sentence that is entered.\n",
        "\n",
        "def reverse(text):\n",
        "    result = \"\"\n",
        "    text_length = len(text)\n",
        "    for i in range(text_length):\n",
        "        result = result + text[i * -1]\n",
        "    return result\n",
        " \n",
        "text = input(\"Enter a sentence: \")\n",
        "print(reverse(text))\n",
        "\n",
        "\n",
        "\n",
        "#5.) Correct the following code: (if one of the options is not entered it should print the statements)\n",
        "\n",
        "def get_user_choice():\n",
        "    while True:\n",
        "        command = input(\"Command: \")\n",
        "        if command = f or command = m or command = s or command = d or command = q:\n",
        "            return command\n",
        " \n",
        "        print(\"Hey, that's not a command. Here are your options:\" )\n",
        "        print(\"f - Full speed ahead\")\n",
        "        print(\"m - Moderate speed\")\n",
        "        print(\"s - Status\")\n",
        "        print(\"d - Drink\")\n",
        "        print(\"q - Quit\")\n",
        " \n",
        "user_command = get_user_choice()\n",
        "print(\"You entered:\", user_command)"
      ]
    }
  ]
}