{
  "nbformat": 4,
  "nbformat_minor": 0,
  "metadata": {
    "colab": {
      "provenance": [],
      "authorship_tag": "ABX9TyNjTGFBthDoxUM4JAWq92Cx",
      "include_colab_link": true
    },
    "kernelspec": {
      "name": "python3",
      "display_name": "Python 3"
    },
    "language_info": {
      "name": "python"
    }
  },
  "cells": [
    {
      "cell_type": "markdown",
      "metadata": {
        "id": "view-in-github",
        "colab_type": "text"
      },
      "source": [
        "<a href=\"https://colab.research.google.com/github/Leilayousefi/DataAnalytics/blob/main/IF_STATMENT.ipynb\" target=\"_parent\"><img src=\"https://colab.research.google.com/assets/colab-badge.svg\" alt=\"Open In Colab\"/></a>"
      ]
    },
    {
      "cell_type": "code",
      "execution_count": null,
      "metadata": {
        "colab": {
          "base_uri": "https://localhost:8080/"
        },
        "id": "wl05_jEY7t5c",
        "outputId": "7c23f218-4ae3-4c57-9bc9-726984f6a17a"
      },
      "outputs": [
        {
          "output_type": "stream",
          "name": "stdout",
          "text": [
            "hello world\n",
            "not adding the numbers\n",
            "hello world\n",
            "will execute if c is true\n"
          ]
        }
      ],
      "source": [
        "#understanding how if...else statments work in python\n",
        "#say we have two variables with the same value and we wanted to do something\n",
        "#only under the condition that both of those values are same\n",
        "a = 'hi'\n",
        "b = 'hi'\n",
        "\n",
        "#we check if the values of a and b are the same with the '==' sign\n",
        "#if they are the same then the block of code underneath gets executed and the\n",
        "#else part isn't executed\n",
        "if(a == b):\n",
        "    print('hello world')\n",
        "else:\n",
        "    print('something else')\n",
        "\n",
        "#(o/p) → hello world-------------------------------------------------------------------------------------------------------\n",
        "\n",
        "#now say that we had 2 numbers of which number_1 is smaller than number_2\n",
        "#and we wanted to add them only if number_2 was smaller\n",
        "number_1 = 2\n",
        "number_2 = 4\n",
        "\n",
        "# then you could do something like this\n",
        "if(number_2 < number_1):\n",
        "    final_number = number_1 + number_2\n",
        "    print(final_number)\n",
        "else:\n",
        "    print('not adding the numbers')\n",
        "\n",
        "#(o/p) → not adding the numbers----------------------------------------------------------------------------------------------\n",
        "\n",
        "#lets understand how to use if statements with boolean values\n",
        "#say c is true and d is false\n",
        "c = True\n",
        "d = False\n",
        "\n",
        "#the if section would get executed and the else section wouldn't\n",
        "#this is because we are always checking if the condition in the parenthesis is true or not\n",
        "#if so, we execute that block otherwise we move to the else part\n",
        "if(c):\n",
        "    print('hello world')\n",
        "else:\n",
        "    print('no hello world displayed')\n",
        "    \n",
        "#(o/p) → hello world ----------------------------------------------------------------------------------------------------------\n",
        "\n",
        "#this is interesting... 'not c' would translate to '!c' in many other programming languages\n",
        "#NOTE: in python '&&' → 'and', '||' → 'or' and '!' → 'not'\n",
        "#therefore, the else part of the condition will get executed as the if condition is now false\n",
        "if(not c):\n",
        "    print('will execute if c is false')\n",
        "else:\n",
        "    print('will execute if c is true')\n",
        "    \n",
        "#(o/p) → will execute if c is true --------------------------------------------------------------------------------------------\n"
      ]
    },
    {
      "cell_type": "code",
      "source": [
        "#if else statments\n",
        "print(\"====example01====\")\n",
        "a = 3\n",
        "b = 2\n",
        "if a < b:\n",
        "    print(\"a is less than b\")\n",
        "    print(\"a is defenitely less than b\")\n",
        "print(\"not sure if a is less than b\")\n",
        "\n",
        "print(\"====example02====\")\n",
        "c = 2\n",
        "d = 4\n",
        "if c < d:\n",
        "    print(\"c is less than d\")\n",
        "else:\n",
        "    print(\"c is NOT less than d\")\n",
        "    print(\"I don't think c is less than d\")\n",
        "print(\"outside the if block\")\n",
        "\n",
        "print(\"====example03====\")\n",
        "e = 9\n",
        "f = 8\n",
        "if e < f:\n",
        "    print(\"e is less than f\")\n",
        "elif e == f:\n",
        "    print(\"e is equal to f\")\n",
        "else: \n",
        "    print(\"e is greater than f\")\n",
        "\n",
        "print(\"====example04====\")\n",
        "g = 24\n",
        "h = 8\n",
        "if g < h:\n",
        "    print(\"g is less than h\")\n",
        "else:\n",
        "    if g > h + 15:\n",
        "        print(\"g is grater than h by more 15\")\n",
        "    else:\n",
        "        print(\"g is greater than h but not by more 15\")"
      ],
      "metadata": {
        "id": "pBkPrZkx9dYZ",
        "outputId": "25d7e87a-7011-4230-9c64-13b26c6c369c",
        "colab": {
          "base_uri": "https://localhost:8080/"
        }
      },
      "execution_count": 1,
      "outputs": [
        {
          "output_type": "stream",
          "name": "stdout",
          "text": [
            "====example01====\n",
            "not sure if a is less than b\n",
            "====example02====\n",
            "c is less than d\n",
            "outside the if block\n",
            "====example03====\n",
            "e is greater than f\n",
            "====example04====\n",
            "g is grater than h by more 15\n"
          ]
        }
      ]
    }
  ]
}